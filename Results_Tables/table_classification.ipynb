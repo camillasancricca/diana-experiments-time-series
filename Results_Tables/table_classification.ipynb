{
 "cells": [
  {
   "cell_type": "code",
   "execution_count": 27,
   "outputs": [
    {
     "data": {
      "text/plain": "    percentage method  precision    recall        f1\n3           10      z      0.125  0.000067  0.000134\n7           20      z      0.000  0.000000  0.000000\n11          30      z      0.375  0.000068  0.000136\n15          40      z      0.125  0.000017  0.000034\n19          50      z      0.250  0.000028  0.000055",
      "text/html": "<div>\n<style scoped>\n    .dataframe tbody tr th:only-of-type {\n        vertical-align: middle;\n    }\n\n    .dataframe tbody tr th {\n        vertical-align: top;\n    }\n\n    .dataframe thead th {\n        text-align: right;\n    }\n</style>\n<table border=\"1\" class=\"dataframe\">\n  <thead>\n    <tr style=\"text-align: right;\">\n      <th></th>\n      <th>percentage</th>\n      <th>method</th>\n      <th>precision</th>\n      <th>recall</th>\n      <th>f1</th>\n    </tr>\n  </thead>\n  <tbody>\n    <tr>\n      <th>3</th>\n      <td>10</td>\n      <td>z</td>\n      <td>0.125</td>\n      <td>0.000067</td>\n      <td>0.000134</td>\n    </tr>\n    <tr>\n      <th>7</th>\n      <td>20</td>\n      <td>z</td>\n      <td>0.000</td>\n      <td>0.000000</td>\n      <td>0.000000</td>\n    </tr>\n    <tr>\n      <th>11</th>\n      <td>30</td>\n      <td>z</td>\n      <td>0.375</td>\n      <td>0.000068</td>\n      <td>0.000136</td>\n    </tr>\n    <tr>\n      <th>15</th>\n      <td>40</td>\n      <td>z</td>\n      <td>0.125</td>\n      <td>0.000017</td>\n      <td>0.000034</td>\n    </tr>\n    <tr>\n      <th>19</th>\n      <td>50</td>\n      <td>z</td>\n      <td>0.250</td>\n      <td>0.000028</td>\n      <td>0.000055</td>\n    </tr>\n  </tbody>\n</table>\n</div>"
     },
     "execution_count": 27,
     "metadata": {},
     "output_type": "execute_result"
    }
   ],
   "source": [
    "import pandas as pd\n",
    "import matplotlib.pyplot as plt\n",
    "import numpy as np\n",
    "from matplotlib import style\n",
    "import scienceplots\n",
    "plt.style.use(['science','no-latex'])\n",
    "style.use('seaborn-v0_8-deep')\n",
    "\n",
    "percentage = [50,40,30,20,10]\n",
    "df = pd.read_csv('NEWeather/outlier_detection.csv')\n",
    "dd = df.groupby(['percentage','method']).mean().reset_index()\n",
    "dd[dd[\"method\"]==\"z\"]"
   ],
   "metadata": {
    "collapsed": false
   }
  },
  {
   "cell_type": "code",
   "execution_count": 8,
   "outputs": [],
   "source": [
    "### 1 DATA IMPUTATION\n",
    "\n",
    "df = pd.read_csv('NEWeather/data_imputation_classification.csv')\n",
    "dd = df.groupby(['percentage','outlier','imputation']).mean().reset_index()\n",
    "techniques = dd.imputation.unique()\n",
    "\n",
    "with open(\"T1_class.csv\", \"w\") as f:\n",
    "    f.write(\"technique,50_r,50_d,60_r,60_d,70_r,70_d,80_r,80_d,90_r,90_d,average_r,average_d\\n\")\n",
    "    clean = dd[(dd[\"imputation\"] == \"none\") & (dd[\"outlier\"] == \"none\") & (dd[\"percentage\"] == 0)].r2.values[0]\n",
    "\n",
    "    for t in techniques:\n",
    "        ratios = []\n",
    "        delta = []\n",
    "        for p in percentage:\n",
    "            ratios.append(round(dd[(dd[\"imputation\"] == t) & (dd[\"percentage\"] == p)].r2.values[0] / clean, 2))\n",
    "            delta.append(round(clean - dd[(dd[\"imputation\"] == t) & (dd[\"percentage\"] == p)].r2.values[0], 2))\n",
    "        f.write(t+\",\"+str(ratios[0])+\",\"+str(delta[0])+\",\"+str(ratios[1])+\",\"+str(delta[1])+\",\"+str(ratios[2])+\",\"+str(delta[2])+\",\"+str(ratios[3])+\",\"+str(delta[3])+\",\"+str(ratios[4])+\",\"+str(delta[4])+\",\"+str(round(np.mean(ratios), 2))+\",\"+str(round(np.mean(delta), 2))+\"\\n\")"
   ],
   "metadata": {
    "collapsed": false
   }
  },
  {
   "cell_type": "code",
   "execution_count": 11,
   "outputs": [],
   "source": [
    "### 2 OUTLIER DETECTION CAPABILITY\n",
    "\n",
    "df = pd.read_csv('NEWeather/outlier_detection.csv')\n",
    "dd = df.groupby(['percentage','method']).mean().reset_index()\n",
    "techniques = dd.method.unique()\n",
    "\n",
    "with open(\"T2_class.csv\", \"w\") as f:\n",
    "    f.write(\"technique,50_p,50_r,50_f1,60_p,60_r,60_f1,70_p,70_r,70_f1,80_p,80_r,80_f1,90_p,90_r,90_f1,avg_p,avg_r,avg_f1\\n\")\n",
    "\n",
    "    for t in techniques:\n",
    "        precision = []\n",
    "        recall = []\n",
    "        f1 = []\n",
    "        for p in percentage:\n",
    "            precision.append(round(dd[(dd[\"method\"] == t) & (dd[\"percentage\"] == p)].precision.values[0], 2))\n",
    "            recall.append(round(dd[(dd[\"method\"] == t) & (dd[\"percentage\"] == p)].recall.values[0], 2))\n",
    "            f1.append(round(dd[(dd[\"method\"] == t) & (dd[\"percentage\"] == p)].f1.values[0], 2))\n",
    "        f.write(t + \",\" + str(precision[0]) + \",\" + str(recall[0])+ \",\" + str(f1[0]) + \",\" + str(precision[1]) + \",\" + str(recall[1])+ \",\" + str(f1[1]) + \",\" + str(precision[2]) + \",\" + str(recall[2])+ \",\" + str(f1[2]) + \",\" + str(precision[3]) + \",\" + str(recall[3])+ \",\" + str(f1[3]) + \",\" + str(\n",
    "            precision[4]) + \",\" + str(recall[4]) + \",\" + str(f1[4]) + \",\" + str(round(np.mean(precision), 2)) + \",\" + str(\n",
    "            round(np.mean(recall), 2))+ \",\" + str(round(np.mean(f1), 2)) + \"\\n\")"
   ],
   "metadata": {
    "collapsed": false
   }
  },
  {
   "cell_type": "code",
   "execution_count": 12,
   "outputs": [],
   "source": [
    "### 3 OUTLIER DETECTION & STANDARDIZATION\n",
    "\n",
    "df = pd.read_csv('NEWeather/outlier_detection_classification.csv')\n",
    "dd = df.groupby(['percentage','outlier','imputation']).mean().reset_index()\n",
    "techniques = dd.outlier.unique()\n",
    "\n",
    "with open(\"T3_class.csv\", \"w\") as f:\n",
    "    f.write(\"technique,50_r,50_d,60_r,60_d,70_r,70_d,80_r,80_d,90_r,90_d,average_r,average_d\\n\")\n",
    "    clean = dd[(dd[\"imputation\"] == \"none\") & (dd[\"outlier\"] == \"none\") & (dd[\"percentage\"] == 0)].r2.values[0]\n",
    "\n",
    "    for t in techniques:\n",
    "        ratios = []\n",
    "        delta = []\n",
    "        for p in percentage:\n",
    "            ratios.append(round(dd[(dd[\"outlier\"] == t) & (dd[\"percentage\"] == p)].r2.values[0] / clean, 2))\n",
    "            delta.append(round(clean - dd[(dd[\"outlier\"] == t) & (dd[\"percentage\"] == p)].r2.values[0], 2))\n",
    "        f.write(t+\",\"+str(ratios[0])+\",\"+str(delta[0])+\",\"+str(ratios[1])+\",\"+str(delta[1])+\",\"+str(ratios[2])+\",\"+str(delta[2])+\",\"+str(ratios[3])+\",\"+str(delta[3])+\",\"+str(ratios[4])+\",\"+str(delta[4])+\",\"+str(round(np.mean(ratios), 2))+\",\"+str(round(np.mean(delta), 2))+\"\\n\")"
   ],
   "metadata": {
    "collapsed": false
   }
  },
  {
   "cell_type": "code",
   "execution_count": 13,
   "outputs": [],
   "source": [
    "### 4 OUTLIER DETECTION & CORRECTION WITH IMPUTATION RF\n",
    "\n",
    "df = pd.read_csv('NEWeather/rf_classification.csv')\n",
    "dd = df.groupby(['percentage','outlier','imputation']).mean().reset_index()\n",
    "outlier = dd.outlier.unique()\n",
    "imputation = dd.imputation.unique()\n",
    "\n",
    "with open(\"T4_class.csv\", \"w\") as f:\n",
    "    f.write(\"technique,50_r,50_d,60_r,60_d,70_r,70_d,80_r,80_d,90_r,90_d,average_r,average_d\\n\")\n",
    "    clean = dd[(dd[\"imputation\"] == \"none\") & (dd[\"outlier\"] == \"none\") & (dd[\"percentage\"] == 0)].r2.values[0]\n",
    "\n",
    "    for out in outlier:\n",
    "        for im in imputation:\n",
    "            ratios = []\n",
    "            delta = []\n",
    "            for p in percentage:\n",
    "                if len(dd[(dd[\"outlier\"] == out) & (dd[\"imputation\"] == im) & (dd[\"percentage\"] == p)]) > 0:\n",
    "                    ratios.append(round(dd[(dd[\"outlier\"] == out) & (dd[\"imputation\"] == im) & (dd[\"percentage\"] == p)].r2.values[0] / clean, 2))\n",
    "                    delta.append(round(clean - dd[(dd[\"outlier\"] == out) & (dd[\"imputation\"] == im) & (dd[\"percentage\"] == p)].r2.values[0], 2))\n",
    "            if len(ratios) > 0:\n",
    "                f.write(out+\"+\"+im+\",\"+str(ratios[0])+\",\"+str(delta[0])+\",\"+str(ratios[1])+\",\"+str(delta[1])+\",\"+str(ratios[2])+\",\"+str(delta[2])+\",\"+str(ratios[3])+\",\"+str(delta[3])+\",\"+str(ratios[4])+\",\"+str(delta[4])+\",\"+str(round(np.mean(ratios), 2))+\",\"+str(round(np.mean(delta), 2))+\"\\n\")"
   ],
   "metadata": {
    "collapsed": false
   }
  },
  {
   "cell_type": "code",
   "execution_count": 4,
   "outputs": [],
   "source": [
    "### 4 OUTLIER DETECTION & CORRECTION WITH IMPUTATION KNN\n",
    "\n",
    "df = pd.read_csv('NEWeather/knn_classification.csv')\n",
    "dd = df.groupby(['percentage','outlier','imputation']).mean().reset_index()\n",
    "outlier = dd.outlier.unique()\n",
    "imputation = dd.imputation.unique()\n",
    "\n",
    "with open(\"T5_class.csv\", \"w\") as f:\n",
    "    f.write(\"technique,50_r,50_d,60_r,60_d,70_r,70_d,80_r,80_d,90_r,90_d,average_r,average_d\\n\")\n",
    "    clean = dd[(dd[\"imputation\"] == \"none\") & (dd[\"outlier\"] == \"none\") & (dd[\"percentage\"] == 0)].r2.values[0]\n",
    "\n",
    "    for out in outlier:\n",
    "        for im in imputation:\n",
    "            ratios = []\n",
    "            delta = []\n",
    "            for p in percentage:\n",
    "                if len(dd[(dd[\"outlier\"] == out) & (dd[\"imputation\"] == im) & (dd[\"percentage\"] == p)]) > 0:\n",
    "                    ratios.append(round(dd[(dd[\"outlier\"] == out) & (dd[\"imputation\"] == im) & (dd[\"percentage\"] == p)].r2.values[0] / clean, 2))\n",
    "                    delta.append(round(clean - dd[(dd[\"outlier\"] == out) & (dd[\"imputation\"] == im) & (dd[\"percentage\"] == p)].r2.values[0], 2))\n",
    "            if len(ratios) > 0:\n",
    "                f.write(out+\"+\"+im+\",\"+str(ratios[0])+\",\"+str(delta[0])+\",\"+str(ratios[1])+\",\"+str(delta[1])+\",\"+str(ratios[2])+\",\"+str(delta[2])+\",\"+str(ratios[3])+\",\"+str(delta[3])+\",\"+str(ratios[4])+\",\"+str(delta[4])+\",\"+str(round(np.mean(ratios), 2))+\",\"+str(round(np.mean(delta), 2))+\"\\n\")\n"
   ],
   "metadata": {
    "collapsed": false
   }
  },
  {
   "cell_type": "code",
   "execution_count": 15,
   "outputs": [],
   "source": [
    "### 5 OUTLIER DETECTION & CORRECTION + DATA IMPUTATION\n",
    "\n",
    "df = pd.read_csv('NEWeather/rf_classification_mix_outliers_none.csv')\n",
    "dd = df.groupby(['percentage','correction','outlier','imputation']).mean().reset_index()\n",
    "outlier = dd.outlier.unique()\n",
    "correction = dd.correction.unique()\n",
    "imputation = dd.imputation.unique()\n",
    "\n",
    "with open(\"T6_class.csv\", \"w\") as f:\n",
    "    f.write(\"technique,50_r,50_d,60_r,60_d,70_r,70_d,80_r,80_d,90_r,90_d,average_r,average_d\\n\")\n",
    "    clean = dd[(dd[\"imputation\"] == \"none\") & (dd[\"outlier\"] == \"none\") & (dd[\"correction\"] == \"none\") & (dd[\"percentage\"] == 0)].r2.values[0]\n",
    "\n",
    "    for out in outlier:\n",
    "        for cor in correction:\n",
    "            for im in imputation:\n",
    "                ratios = []\n",
    "                delta = []\n",
    "                for p in percentage:\n",
    "                    if len(dd[(dd[\"outlier\"] == out) & (dd[\"correction\"] == cor) & (dd[\"imputation\"] == im) & (dd[\"percentage\"] == p)]) > 0:\n",
    "                        ratios.append(round(dd[(dd[\"outlier\"] == out) & (dd[\"correction\"] == cor) & (dd[\"imputation\"] == im) & (dd[\"percentage\"] == p)].r2.values[0] / clean, 2))\n",
    "                        delta.append(round(clean - dd[(dd[\"outlier\"] == out) & (dd[\"correction\"] == cor) & (dd[\"imputation\"] == im) & (dd[\"percentage\"] == p)].r2.values[0], 2))\n",
    "                if len(ratios) > 0:\n",
    "                    f.write(out+\"+\"+cor+\"+\"+im+\",\"+str(ratios[0])+\",\"+str(delta[0])+\",\"+str(ratios[1])+\",\"+str(delta[1])+\",\"+str(ratios[2])+\",\"+str(delta[2])+\",\"+str(ratios[3])+\",\"+str(delta[3])+\",\"+str(ratios[4])+\",\"+str(delta[4])+\",\"+str(round(np.mean(ratios), 2))+\",\"+str(round(np.mean(delta), 2))+\"\\n\")\n"
   ],
   "metadata": {
    "collapsed": false
   }
  },
  {
   "cell_type": "code",
   "execution_count": 16,
   "outputs": [],
   "source": [
    "### 6 DATA IMPUTATION + OUTLIER DETECTION & CORRECTION\n",
    "\n",
    "df = pd.read_csv('NEWeather/rf_classification_mix_none_outliers.csv')\n",
    "dd = df.groupby(['percentage','correction','outlier','imputation']).mean().reset_index()\n",
    "outlier = dd.outlier.unique()\n",
    "correction = dd.correction.unique()\n",
    "imputation = dd.imputation.unique()\n",
    "\n",
    "with open(\"T7_class.csv\", \"w\") as f:\n",
    "    f.write(\"technique,50_r,50_d,60_r,60_d,70_r,70_d,80_r,80_d,90_r,90_d,average_r,average_d\\n\")\n",
    "    clean = dd[(dd[\"imputation\"] == \"none\") & (dd[\"outlier\"] == \"none\") & (dd[\"correction\"] == \"none\") & (dd[\"percentage\"] == 0)].r2.values[0]\n",
    "\n",
    "    for out in outlier:\n",
    "        for cor in correction:\n",
    "            for im in imputation:\n",
    "                ratios = []\n",
    "                delta = []\n",
    "                for p in percentage:\n",
    "                    if len(dd[(dd[\"outlier\"] == out) & (dd[\"correction\"] == cor) & (dd[\"imputation\"] == im) & (dd[\"percentage\"] == p)]) > 0:\n",
    "                        ratios.append(round(dd[(dd[\"outlier\"] == out) & (dd[\"correction\"] == cor) & (dd[\"imputation\"] == im) & (dd[\"percentage\"] == p)].r2.values[0] / clean, 2))\n",
    "                        delta.append(round(clean - dd[(dd[\"outlier\"] == out) & (dd[\"correction\"] == cor) & (dd[\"imputation\"] == im) & (dd[\"percentage\"] == p)].r2.values[0], 2))\n",
    "                if len(ratios) > 0:\n",
    "                    f.write(im+\"+\"+out+\"+\"+cor+\",\"+str(ratios[0])+\",\"+str(delta[0])+\",\"+str(ratios[1])+\",\"+str(delta[1])+\",\"+str(ratios[2])+\",\"+str(delta[2])+\",\"+str(ratios[3])+\",\"+str(delta[3])+\",\"+str(ratios[4])+\",\"+str(delta[4])+\",\"+str(round(np.mean(ratios), 2))+\",\"+str(round(np.mean(delta), 2))+\"\\n\")\n"
   ],
   "metadata": {
    "collapsed": false
   }
  },
  {
   "cell_type": "code",
   "execution_count": 16,
   "outputs": [],
   "source": [],
   "metadata": {
    "collapsed": false
   }
  }
 ],
 "metadata": {
  "kernelspec": {
   "display_name": "Python 3",
   "language": "python",
   "name": "python3"
  },
  "language_info": {
   "codemirror_mode": {
    "name": "ipython",
    "version": 2
   },
   "file_extension": ".py",
   "mimetype": "text/x-python",
   "name": "python",
   "nbconvert_exporter": "python",
   "pygments_lexer": "ipython2",
   "version": "2.7.6"
  }
 },
 "nbformat": 4,
 "nbformat_minor": 0
}
