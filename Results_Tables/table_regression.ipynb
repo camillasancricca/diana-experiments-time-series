{
 "cells": [
  {
   "cell_type": "code",
   "execution_count": 1,
   "outputs": [
    {
     "name": "stderr",
     "output_type": "stream",
     "text": [
      "/var/folders/28/s2pb4zq55c74809tjsxsq73c0000gn/T/ipykernel_52836/873217269.py:1: DeprecationWarning: \n",
      "Pyarrow will become a required dependency of pandas in the next major release of pandas (pandas 3.0),\n",
      "(to allow more performant data types, such as the Arrow string type, and better interoperability with other libraries)\n",
      "but was not found to be installed on your system.\n",
      "If this would cause problems for you,\n",
      "please provide us feedback at https://github.com/pandas-dev/pandas/issues/54466\n",
      "        \n",
      "  import pandas as pd\n"
     ]
    }
   ],
   "source": [
    "import pandas as pd\n",
    "import matplotlib.pyplot as plt\n",
    "import numpy as np\n",
    "from matplotlib import style\n",
    "import scienceplots\n",
    "plt.style.use(['science','no-latex'])\n",
    "style.use('seaborn-v0_8-deep')\n",
    "\n",
    "percentage = [50,40,30,20,10]"
   ],
   "metadata": {
    "collapsed": false
   }
  },
  {
   "cell_type": "code",
   "execution_count": 2,
   "outputs": [],
   "source": [
    "### 1 DATA IMPUTATION\n",
    "\n",
    "df = pd.read_csv('Air_Quality/data_imputation_regression.csv')\n",
    "dd = df.groupby(['percentage','outlier','imputation']).mean().reset_index()\n",
    "techniques = dd.imputation.unique()\n",
    "\n",
    "with open(\"T1_reg.csv\", \"w\") as f:\n",
    "    f.write(\"technique,50_r,50_d,60_r,60_d,70_r,70_d,80_r,80_d,90_r,90_d,average_r,average_d\\n\")\n",
    "    clean = dd[(dd[\"imputation\"] == \"none\") & (dd[\"outlier\"] == \"none\") & (dd[\"percentage\"] == 0)].r2.values[0]\n",
    "\n",
    "    for t in techniques:\n",
    "        ratios = []\n",
    "        delta = []\n",
    "        for p in percentage:\n",
    "            ratios.append(round(dd[(dd[\"imputation\"] == t) & (dd[\"percentage\"] == p)].r2.values[0] / clean, 2))\n",
    "            delta.append(round(clean - dd[(dd[\"imputation\"] == t) & (dd[\"percentage\"] == p)].r2.values[0], 2))\n",
    "        f.write(t+\",\"+str(ratios[0])+\",\"+str(delta[0])+\",\"+str(ratios[1])+\",\"+str(delta[1])+\",\"+str(ratios[2])+\",\"+str(delta[2])+\",\"+str(ratios[3])+\",\"+str(delta[3])+\",\"+str(ratios[4])+\",\"+str(delta[4])+\",\"+str(round(np.mean(ratios), 2))+\",\"+str(round(np.mean(delta), 2))+\"\\n\")"
   ],
   "metadata": {
    "collapsed": false
   }
  },
  {
   "cell_type": "code",
   "execution_count": 3,
   "outputs": [],
   "source": [
    "### 2 OUTLIER DETECTION CAPABILITY\n",
    "\n",
    "df = pd.read_csv('Air_Quality/outlier_detection.csv')\n",
    "dd = df.groupby(['percentage','method']).mean().reset_index()\n",
    "techniques = dd.method.unique()\n",
    "\n",
    "with open(\"T2_reg.csv\", \"w\") as f:\n",
    "    f.write(\"technique,50_p,50_r,50_f1,60_p,60_r,60_f1,70_p,70_r,70_f1,80_p,80_r,80_f1,90_p,90_r,90_f1,avg_p,avg_r,avg_f1\\n\")\n",
    "\n",
    "    for t in techniques:\n",
    "        precision = []\n",
    "        recall = []\n",
    "        f1 = []\n",
    "        for p in percentage:\n",
    "            precision.append(round(dd[(dd[\"method\"] == t) & (dd[\"percentage\"] == p)].precision.values[0], 2))\n",
    "            recall.append(round(dd[(dd[\"method\"] == t) & (dd[\"percentage\"] == p)].recall.values[0], 2))\n",
    "            f1.append(round(dd[(dd[\"method\"] == t) & (dd[\"percentage\"] == p)].f1.values[0], 2))\n",
    "        f.write(t + \",\" + str(precision[0]) + \",\" + str(recall[0])+ \",\" + str(f1[0]) + \",\" + str(precision[1]) + \",\" + str(recall[1])+ \",\" + str(f1[1]) + \",\" + str(precision[2]) + \",\" + str(recall[2])+ \",\" + str(f1[2]) + \",\" + str(precision[3]) + \",\" + str(recall[3])+ \",\" + str(f1[3]) + \",\" + str(\n",
    "            precision[4]) + \",\" + str(recall[4]) + \",\" + str(f1[4]) + \",\" + str(round(np.mean(precision), 2)) + \",\" + str(\n",
    "            round(np.mean(recall), 2))+ \",\" + str(round(np.mean(f1), 2)) + \"\\n\")"
   ],
   "metadata": {
    "collapsed": false
   }
  },
  {
   "cell_type": "code",
   "execution_count": 4,
   "outputs": [],
   "source": [
    "### 3 OUTLIER DETECTION & STANDARDIZATION\n",
    "\n",
    "df = pd.read_csv('Air_Quality/outlier_detection_regression.csv')\n",
    "dd = df.groupby(['percentage','outlier','imputation']).mean().reset_index()\n",
    "techniques = dd.outlier.unique()\n",
    "\n",
    "with open(\"T3_reg.csv\", \"w\") as f:\n",
    "    f.write(\"technique,50_r,50_d,60_r,60_d,70_r,70_d,80_r,80_d,90_r,90_d,average_r,average_d\\n\")\n",
    "    clean = dd[(dd[\"imputation\"] == \"none\") & (dd[\"outlier\"] == \"none\") & (dd[\"percentage\"] == 0)].r2.values[0]\n",
    "\n",
    "    for t in techniques:\n",
    "        ratios = []\n",
    "        delta = []\n",
    "        for p in percentage:\n",
    "            ratios.append(round(dd[(dd[\"outlier\"] == t) & (dd[\"percentage\"] == p)].r2.values[0] / clean, 2))\n",
    "            delta.append(round(clean - dd[(dd[\"outlier\"] == t) & (dd[\"percentage\"] == p)].r2.values[0], 2))\n",
    "        f.write(t+\",\"+str(ratios[0])+\",\"+str(delta[0])+\",\"+str(ratios[1])+\",\"+str(delta[1])+\",\"+str(ratios[2])+\",\"+str(delta[2])+\",\"+str(ratios[3])+\",\"+str(delta[3])+\",\"+str(ratios[4])+\",\"+str(delta[4])+\",\"+str(round(np.mean(ratios), 2))+\",\"+str(round(np.mean(delta), 2))+\"\\n\")"
   ],
   "metadata": {
    "collapsed": false
   }
  },
  {
   "cell_type": "code",
   "execution_count": 5,
   "outputs": [],
   "source": [
    "### 4 OUTLIER DETECTION & CORRECTION WITH IMPUTATION RF\n",
    "\n",
    "df = pd.read_csv('Air_Quality/rf_regression.csv')\n",
    "dd = df.groupby(['percentage','outlier','imputation']).mean().reset_index()\n",
    "outlier = dd.outlier.unique()\n",
    "imputation = dd.imputation.unique()\n",
    "\n",
    "with open(\"T4_reg.csv\", \"w\") as f:\n",
    "    f.write(\"technique,50_r,50_d,60_r,60_d,70_r,70_d,80_r,80_d,90_r,90_d,average_r,average_d\\n\")\n",
    "    clean = dd[(dd[\"imputation\"] == \"none\") & (dd[\"outlier\"] == \"none\") & (dd[\"percentage\"] == 0)].r2.values[0]\n",
    "\n",
    "    for out in outlier:\n",
    "        for im in imputation:\n",
    "            ratios = []\n",
    "            delta = []\n",
    "            for p in percentage:\n",
    "                if len(dd[(dd[\"outlier\"] == out) & (dd[\"imputation\"] == im) & (dd[\"percentage\"] == p)]) > 0:\n",
    "                    ratios.append(round(dd[(dd[\"outlier\"] == out) & (dd[\"imputation\"] == im) & (dd[\"percentage\"] == p)].r2.values[0] / clean, 2))\n",
    "                    delta.append(round(clean - dd[(dd[\"outlier\"] == out) & (dd[\"imputation\"] == im) & (dd[\"percentage\"] == p)].r2.values[0], 2))\n",
    "            if len(ratios) > 0:\n",
    "                f.write(out+\"+\"+im+\",\"+str(ratios[0])+\",\"+str(delta[0])+\",\"+str(ratios[1])+\",\"+str(delta[1])+\",\"+str(ratios[2])+\",\"+str(delta[2])+\",\"+str(ratios[3])+\",\"+str(delta[3])+\",\"+str(ratios[4])+\",\"+str(delta[4])+\",\"+str(round(np.mean(ratios), 2))+\",\"+str(round(np.mean(delta), 2))+\"\\n\")"
   ],
   "metadata": {
    "collapsed": false
   }
  },
  {
   "cell_type": "code",
   "execution_count": 6,
   "outputs": [],
   "source": [
    "### 4 OUTLIER DETECTION & CORRECTION WITH IMPUTATION KNN\n",
    "\n",
    "df = pd.read_csv('Air_Quality/knn_regression.csv')\n",
    "dd = df.groupby(['percentage','outlier','imputation']).mean().reset_index()\n",
    "outlier = dd.outlier.unique()\n",
    "imputation = dd.imputation.unique()\n",
    "\n",
    "with open(\"T5_reg.csv\", \"w\") as f:\n",
    "    f.write(\"technique,50_r,50_d,60_r,60_d,70_r,70_d,80_r,80_d,90_r,90_d,average_r,average_d\\n\")\n",
    "    clean = dd[(dd[\"imputation\"] == \"none\") & (dd[\"outlier\"] == \"none\") & (dd[\"percentage\"] == 0)].r2.values[0]\n",
    "\n",
    "    for out in outlier:\n",
    "        for im in imputation:\n",
    "            ratios = []\n",
    "            delta = []\n",
    "            for p in percentage:\n",
    "                if len(dd[(dd[\"outlier\"] == out) & (dd[\"imputation\"] == im) & (dd[\"percentage\"] == p)]) > 0:\n",
    "                    ratios.append(round(dd[(dd[\"outlier\"] == out) & (dd[\"imputation\"] == im) & (dd[\"percentage\"] == p)].r2.values[0] / clean, 2))\n",
    "                    delta.append(round(clean - dd[(dd[\"outlier\"] == out) & (dd[\"imputation\"] == im) & (dd[\"percentage\"] == p)].r2.values[0], 2))\n",
    "            if len(ratios) > 0:\n",
    "                f.write(out+\"+\"+im+\",\"+str(ratios[0])+\",\"+str(delta[0])+\",\"+str(ratios[1])+\",\"+str(delta[1])+\",\"+str(ratios[2])+\",\"+str(delta[2])+\",\"+str(ratios[3])+\",\"+str(delta[3])+\",\"+str(ratios[4])+\",\"+str(delta[4])+\",\"+str(round(np.mean(ratios), 2))+\",\"+str(round(np.mean(delta), 2))+\"\\n\")\n"
   ],
   "metadata": {
    "collapsed": false
   }
  },
  {
   "cell_type": "code",
   "execution_count": 7,
   "outputs": [],
   "source": [
    "### 5 OUTLIER DETECTION & CORRECTION + DATA IMPUTATION\n",
    "\n",
    "df = pd.read_csv('Air_Quality/rf_regression_mix_outliers_none.csv')\n",
    "dd = df.groupby(['percentage','correction','outlier','imputation']).mean().reset_index()\n",
    "outlier = dd.outlier.unique()\n",
    "correction = dd.correction.unique()\n",
    "imputation = dd.imputation.unique()\n",
    "\n",
    "with open(\"T6_reg.csv\", \"w\") as f:\n",
    "    f.write(\"technique,50_r,50_d,60_r,60_d,70_r,70_d,80_r,80_d,90_r,90_d,average_r,average_d\\n\")\n",
    "    clean = dd[(dd[\"imputation\"] == \"none\") & (dd[\"outlier\"] == \"none\") & (dd[\"correction\"] == \"none\") & (dd[\"percentage\"] == 0)].r2.values[0]\n",
    "\n",
    "    for out in outlier:\n",
    "        for cor in correction:\n",
    "            for im in imputation:\n",
    "                ratios = []\n",
    "                delta = []\n",
    "                for p in percentage:\n",
    "                    if len(dd[(dd[\"outlier\"] == out) & (dd[\"correction\"] == cor) & (dd[\"imputation\"] == im) & (dd[\"percentage\"] == p)]) > 0:\n",
    "                        ratios.append(round(dd[(dd[\"outlier\"] == out) & (dd[\"correction\"] == cor) & (dd[\"imputation\"] == im) & (dd[\"percentage\"] == p)].r2.values[0] / clean, 2))\n",
    "                        delta.append(round(clean - dd[(dd[\"outlier\"] == out) & (dd[\"correction\"] == cor) & (dd[\"imputation\"] == im) & (dd[\"percentage\"] == p)].r2.values[0], 2))\n",
    "                if len(ratios) > 0:\n",
    "                    f.write(out+\"+\"+cor+\"+\"+im+\",\"+str(ratios[0])+\",\"+str(delta[0])+\",\"+str(ratios[1])+\",\"+str(delta[1])+\",\"+str(ratios[2])+\",\"+str(delta[2])+\",\"+str(ratios[3])+\",\"+str(delta[3])+\",\"+str(ratios[4])+\",\"+str(delta[4])+\",\"+str(round(np.mean(ratios), 2))+\",\"+str(round(np.mean(delta), 2))+\"\\n\")\n"
   ],
   "metadata": {
    "collapsed": false
   }
  },
  {
   "cell_type": "code",
   "execution_count": 8,
   "outputs": [],
   "source": [
    "### 6 DATA IMPUTATION + OUTLIER DETECTION & CORRECTION\n",
    "\n",
    "df = pd.read_csv('Air_Quality/rf_regression_mix_none_outliers.csv')\n",
    "dd = df.groupby(['percentage','correction','outlier','imputation']).mean().reset_index()\n",
    "outlier = dd.outlier.unique()\n",
    "correction = dd.correction.unique()\n",
    "imputation = dd.imputation.unique()\n",
    "\n",
    "with open(\"T7_reg.csv\", \"w\") as f:\n",
    "    f.write(\"technique,50_r,50_d,60_r,60_d,70_r,70_d,80_r,80_d,90_r,90_d,average_r,average_d\\n\")\n",
    "    clean = dd[(dd[\"imputation\"] == \"none\") & (dd[\"outlier\"] == \"none\") & (dd[\"correction\"] == \"none\") & (dd[\"percentage\"] == 0)].r2.values[0]\n",
    "\n",
    "    for out in outlier:\n",
    "        for cor in correction:\n",
    "            for im in imputation:\n",
    "                ratios = []\n",
    "                delta = []\n",
    "                for p in percentage:\n",
    "                    if len(dd[(dd[\"outlier\"] == out) & (dd[\"correction\"] == cor) & (dd[\"imputation\"] == im) & (dd[\"percentage\"] == p)]) > 0:\n",
    "                        ratios.append(round(dd[(dd[\"outlier\"] == out) & (dd[\"correction\"] == cor) & (dd[\"imputation\"] == im) & (dd[\"percentage\"] == p)].r2.values[0] / clean, 2))\n",
    "                        delta.append(round(clean - dd[(dd[\"outlier\"] == out) & (dd[\"correction\"] == cor) & (dd[\"imputation\"] == im) & (dd[\"percentage\"] == p)].r2.values[0], 2))\n",
    "                if len(ratios) > 0:\n",
    "                    f.write(im+\"+\"+out+\"+\"+cor+\",\"+str(ratios[0])+\",\"+str(delta[0])+\",\"+str(ratios[1])+\",\"+str(delta[1])+\",\"+str(ratios[2])+\",\"+str(delta[2])+\",\"+str(ratios[3])+\",\"+str(delta[3])+\",\"+str(ratios[4])+\",\"+str(delta[4])+\",\"+str(round(np.mean(ratios), 2))+\",\"+str(round(np.mean(delta), 2))+\"\\n\")\n"
   ],
   "metadata": {
    "collapsed": false
   }
  },
  {
   "cell_type": "code",
   "execution_count": 8,
   "outputs": [],
   "source": [],
   "metadata": {
    "collapsed": false
   }
  }
 ],
 "metadata": {
  "kernelspec": {
   "display_name": "Python 3",
   "language": "python",
   "name": "python3"
  },
  "language_info": {
   "codemirror_mode": {
    "name": "ipython",
    "version": 2
   },
   "file_extension": ".py",
   "mimetype": "text/x-python",
   "name": "python",
   "nbconvert_exporter": "python",
   "pygments_lexer": "ipython2",
   "version": "2.7.6"
  }
 },
 "nbformat": 4,
 "nbformat_minor": 0
}
